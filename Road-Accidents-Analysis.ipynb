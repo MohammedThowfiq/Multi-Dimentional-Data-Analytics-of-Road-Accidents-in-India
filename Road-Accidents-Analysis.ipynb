{
 "cells": [
  {
   "cell_type": "code",
   "execution_count": 28,
   "metadata": {},
   "outputs": [],
   "source": [
    "import pandas as pd\n",
    "import numpy as np\n",
    "import matplotlib.pyplot as plt\n",
    "import matplotlib as mpl\n",
    "import seaborn as sns\n",
    "import sklearn\n",
    "import csv\n",
    "import os\n",
    "import xlrd\n",
    "from collections import defaultdict\n",
    "import math as m\n",
    "from jupyterthemes import jtplot"
   ]
  },
  {
   "cell_type": "code",
   "execution_count": 29,
   "metadata": {},
   "outputs": [],
   "source": [
    "df = pd.read_csv('A:\\Data Analysis Jupyter\\Road-Accidents-Of-India\\Databases\\\\roadAccStats13-16.csv')"
   ]
  },
  {
   "cell_type": "code",
   "execution_count": 30,
   "metadata": {},
   "outputs": [],
   "source": [
    "df1 = pd.read_csv('A:\\Data Analysis Jupyter\\Road-Accidents-Of-India\\Databases\\\\Details_of_road_accident_deaths_by_situation_state_2014.csv')"
   ]
  },
  {
   "cell_type": "code",
   "execution_count": 31,
   "metadata": {},
   "outputs": [],
   "source": [
    "df2 = pd.read_csv('A:\\Data Analysis Jupyter\\Road-Accidents-Of-India\\Databases\\\\Persons_killed_due_to_Non-use_of_Safety_Device_2016.csv')"
   ]
  },
  {
   "cell_type": "code",
   "execution_count": 32,
   "metadata": {},
   "outputs": [
    {
     "name": "stdout",
     "output_type": "stream",
     "text": [
      "WARNING *** OLE2 inconsistency: SSCS size is 0 but SSAT size is non-zero\n"
     ]
    }
   ],
   "source": [
    "df3 = pd.read_excel('A:\\Data Analysis Jupyter\\Road-Accidents-Of-India\\Databases\\\\datafile.xls')"
   ]
  },
  {
   "cell_type": "code",
   "execution_count": 33,
   "metadata": {},
   "outputs": [],
   "source": [
    "plt.rcParams['figure.figsize'] = [10, 5]"
   ]
  },
  {
   "cell_type": "code",
   "execution_count": 34,
   "metadata": {},
   "outputs": [],
   "source": [
    "jtplot.style()\n",
    "jtplot.style(theme = 'onedork')\n",
    "jtplot.style(context = 'talk', fscale = 1.4, spines = False, gridlines = '--')\n",
    "jtplot.style(ticks = True, grid = False, figsize=(6, 4.5))\n",
    "jtplot.reset()"
   ]
  },
  {
   "cell_type": "markdown",
   "metadata": {},
   "source": [
    "This dataset tells about the road accidents counts in each stage for years 2013 to 2016."
   ]
  },
  {
   "cell_type": "code",
   "execution_count": 35,
   "metadata": {},
   "outputs": [
    {
     "data": {
      "text/html": [
       "<div>\n",
       "<style scoped>\n",
       "    .dataframe tbody tr th:only-of-type {\n",
       "        vertical-align: middle;\n",
       "    }\n",
       "\n",
       "    .dataframe tbody tr th {\n",
       "        vertical-align: top;\n",
       "    }\n",
       "\n",
       "    .dataframe thead th {\n",
       "        text-align: right;\n",
       "    }\n",
       "</style>\n",
       "<table border=\"1\" class=\"dataframe\">\n",
       "  <thead>\n",
       "    <tr style=\"text-align: right;\">\n",
       "      <th></th>\n",
       "      <th>SI. No.</th>\n",
       "      <th>States/UTs</th>\n",
       "      <th>State/UT-Wise Total Number of Road Accidents during - 2013</th>\n",
       "      <th>State/UT-Wise Total Number of Road Accidents during - 2014</th>\n",
       "      <th>State/UT-Wise Total Number of Road Accidents during - 2015</th>\n",
       "      <th>State/UT-Wise Total Number of Road Accidents during - 2016</th>\n",
       "      <th>Share of States/UTs in Total Number of Road Accidents - 2013</th>\n",
       "      <th>Share of States/UTs in Total Number of Road Accidents - 2014</th>\n",
       "      <th>Share of States/UTs in Total Number of Road Accidents - 2015</th>\n",
       "      <th>Share of States/UTs in Total Number of Road Accidents - 2016</th>\n",
       "      <th>Total Number of Accidents Per Lakh Population - 2013</th>\n",
       "      <th>Total Number of Accidents Per Lakh Population - 2014</th>\n",
       "      <th>Total Number of Accidents Per Lakh Population - 2015</th>\n",
       "      <th>Total Number of Accidents Per Lakh Population - 2016</th>\n",
       "      <th>Total Number of Road Accidents per 10,000 Vehicles - 2013</th>\n",
       "      <th>Total Number of Road Accidents per 10,000 Vehicles - 2014</th>\n",
       "      <th>Total Number of Road Accidents per 10,000 Vehicles - 2015</th>\n",
       "      <th>Total Number of Road Accidents per 10,000 Km of Roads - 2013</th>\n",
       "      <th>Total Number of Road Accidents per 10,000 Km of Roads - 2014</th>\n",
       "      <th>Total Number of Road Accidents per 10,000 Km of Roads - 2015</th>\n",
       "    </tr>\n",
       "  </thead>\n",
       "  <tbody>\n",
       "    <tr>\n",
       "      <th>0</th>\n",
       "      <td>1</td>\n",
       "      <td>Andhra Pradesh</td>\n",
       "      <td>43482.0</td>\n",
       "      <td>24440</td>\n",
       "      <td>24258</td>\n",
       "      <td>24888</td>\n",
       "      <td>8.9</td>\n",
       "      <td>5.0</td>\n",
       "      <td>4.8</td>\n",
       "      <td>5.2</td>\n",
       "      <td>50.4</td>\n",
       "      <td>28.1</td>\n",
       "      <td>27.7</td>\n",
       "      <td>28.2</td>\n",
       "      <td>34.3</td>\n",
       "      <td>34.9</td>\n",
       "      <td>30.8</td>\n",
       "      <td>1661.8</td>\n",
       "      <td>1372.3</td>\n",
       "      <td>1355.0</td>\n",
       "    </tr>\n",
       "    <tr>\n",
       "      <th>1</th>\n",
       "      <td>2</td>\n",
       "      <td>Arunachal Pradesh</td>\n",
       "      <td>308.0</td>\n",
       "      <td>205</td>\n",
       "      <td>284</td>\n",
       "      <td>249</td>\n",
       "      <td>0.1</td>\n",
       "      <td>0.0</td>\n",
       "      <td>0.1</td>\n",
       "      <td>0.1</td>\n",
       "      <td>24.3</td>\n",
       "      <td>16.0</td>\n",
       "      <td>21.9</td>\n",
       "      <td>19.0</td>\n",
       "      <td>20.4</td>\n",
       "      <td>13.6</td>\n",
       "      <td>18.8</td>\n",
       "      <td>109.6</td>\n",
       "      <td>83.8</td>\n",
       "      <td>112.0</td>\n",
       "    </tr>\n",
       "    <tr>\n",
       "      <th>2</th>\n",
       "      <td>3</td>\n",
       "      <td>Assam</td>\n",
       "      <td>7211.0</td>\n",
       "      <td>7144</td>\n",
       "      <td>6959</td>\n",
       "      <td>7435</td>\n",
       "      <td>1.5</td>\n",
       "      <td>1.5</td>\n",
       "      <td>1.4</td>\n",
       "      <td>1.5</td>\n",
       "      <td>23.0</td>\n",
       "      <td>22.5</td>\n",
       "      <td>21.7</td>\n",
       "      <td>22.9</td>\n",
       "      <td>38.4</td>\n",
       "      <td>32.2</td>\n",
       "      <td>27.7</td>\n",
       "      <td>250.3</td>\n",
       "      <td>227.8</td>\n",
       "      <td>213.1</td>\n",
       "    </tr>\n",
       "    <tr>\n",
       "      <th>3</th>\n",
       "      <td>4</td>\n",
       "      <td>Bihar</td>\n",
       "      <td>10200.0</td>\n",
       "      <td>9556</td>\n",
       "      <td>9555</td>\n",
       "      <td>8222</td>\n",
       "      <td>2.1</td>\n",
       "      <td>2.0</td>\n",
       "      <td>1.9</td>\n",
       "      <td>1.7</td>\n",
       "      <td>10.2</td>\n",
       "      <td>9.4</td>\n",
       "      <td>9.3</td>\n",
       "      <td>7.9</td>\n",
       "      <td>28.2</td>\n",
       "      <td>23.0</td>\n",
       "      <td>20.0</td>\n",
       "      <td>517.1</td>\n",
       "      <td>455.6</td>\n",
       "      <td>463.8</td>\n",
       "    </tr>\n",
       "    <tr>\n",
       "      <th>4</th>\n",
       "      <td>5</td>\n",
       "      <td>Chhattisgarh</td>\n",
       "      <td>13657.0</td>\n",
       "      <td>13821</td>\n",
       "      <td>14446</td>\n",
       "      <td>13580</td>\n",
       "      <td>2.8</td>\n",
       "      <td>2.8</td>\n",
       "      <td>2.9</td>\n",
       "      <td>2.8</td>\n",
       "      <td>54.8</td>\n",
       "      <td>54.8</td>\n",
       "      <td>56.5</td>\n",
       "      <td>52.5</td>\n",
       "      <td>39.7</td>\n",
       "      <td>35.7</td>\n",
       "      <td>33.5</td>\n",
       "      <td>1530.4</td>\n",
       "      <td>1461.3</td>\n",
       "      <td>1481.1</td>\n",
       "    </tr>\n",
       "  </tbody>\n",
       "</table>\n",
       "</div>"
      ],
      "text/plain": [
       "  SI. No.         States/UTs  \\\n",
       "0       1     Andhra Pradesh   \n",
       "1       2  Arunachal Pradesh   \n",
       "2       3              Assam   \n",
       "3       4              Bihar   \n",
       "4       5       Chhattisgarh   \n",
       "\n",
       "   State/UT-Wise Total Number of Road Accidents during - 2013  \\\n",
       "0                                            43482.0            \n",
       "1                                              308.0            \n",
       "2                                             7211.0            \n",
       "3                                            10200.0            \n",
       "4                                            13657.0            \n",
       "\n",
       "   State/UT-Wise Total Number of Road Accidents during - 2014  \\\n",
       "0                                              24440            \n",
       "1                                                205            \n",
       "2                                               7144            \n",
       "3                                               9556            \n",
       "4                                              13821            \n",
       "\n",
       "   State/UT-Wise Total Number of Road Accidents during - 2015  \\\n",
       "0                                              24258            \n",
       "1                                                284            \n",
       "2                                               6959            \n",
       "3                                               9555            \n",
       "4                                              14446            \n",
       "\n",
       "   State/UT-Wise Total Number of Road Accidents during - 2016  \\\n",
       "0                                              24888            \n",
       "1                                                249            \n",
       "2                                               7435            \n",
       "3                                               8222            \n",
       "4                                              13580            \n",
       "\n",
       "   Share of States/UTs in Total Number of Road Accidents - 2013  \\\n",
       "0                                                8.9              \n",
       "1                                                0.1              \n",
       "2                                                1.5              \n",
       "3                                                2.1              \n",
       "4                                                2.8              \n",
       "\n",
       "   Share of States/UTs in Total Number of Road Accidents - 2014  \\\n",
       "0                                                5.0              \n",
       "1                                                0.0              \n",
       "2                                                1.5              \n",
       "3                                                2.0              \n",
       "4                                                2.8              \n",
       "\n",
       "   Share of States/UTs in Total Number of Road Accidents - 2015  \\\n",
       "0                                                4.8              \n",
       "1                                                0.1              \n",
       "2                                                1.4              \n",
       "3                                                1.9              \n",
       "4                                                2.9              \n",
       "\n",
       "   Share of States/UTs in Total Number of Road Accidents - 2016  \\\n",
       "0                                                5.2              \n",
       "1                                                0.1              \n",
       "2                                                1.5              \n",
       "3                                                1.7              \n",
       "4                                                2.8              \n",
       "\n",
       "   Total Number of Accidents Per Lakh Population - 2013  \\\n",
       "0                                               50.4      \n",
       "1                                               24.3      \n",
       "2                                               23.0      \n",
       "3                                               10.2      \n",
       "4                                               54.8      \n",
       "\n",
       "   Total Number of Accidents Per Lakh Population - 2014  \\\n",
       "0                                               28.1      \n",
       "1                                               16.0      \n",
       "2                                               22.5      \n",
       "3                                                9.4      \n",
       "4                                               54.8      \n",
       "\n",
       "   Total Number of Accidents Per Lakh Population - 2015  \\\n",
       "0                                               27.7      \n",
       "1                                               21.9      \n",
       "2                                               21.7      \n",
       "3                                                9.3      \n",
       "4                                               56.5      \n",
       "\n",
       "   Total Number of Accidents Per Lakh Population - 2016  \\\n",
       "0                                               28.2      \n",
       "1                                               19.0      \n",
       "2                                               22.9      \n",
       "3                                                7.9      \n",
       "4                                               52.5      \n",
       "\n",
       "   Total Number of Road Accidents per 10,000 Vehicles - 2013  \\\n",
       "0                                               34.3           \n",
       "1                                               20.4           \n",
       "2                                               38.4           \n",
       "3                                               28.2           \n",
       "4                                               39.7           \n",
       "\n",
       "   Total Number of Road Accidents per 10,000 Vehicles - 2014  \\\n",
       "0                                               34.9           \n",
       "1                                               13.6           \n",
       "2                                               32.2           \n",
       "3                                               23.0           \n",
       "4                                               35.7           \n",
       "\n",
       "   Total Number of Road Accidents per 10,000 Vehicles - 2015  \\\n",
       "0                                               30.8           \n",
       "1                                               18.8           \n",
       "2                                               27.7           \n",
       "3                                               20.0           \n",
       "4                                               33.5           \n",
       "\n",
       "   Total Number of Road Accidents per 10,000 Km of Roads - 2013  \\\n",
       "0                                             1661.8              \n",
       "1                                              109.6              \n",
       "2                                              250.3              \n",
       "3                                              517.1              \n",
       "4                                             1530.4              \n",
       "\n",
       "   Total Number of Road Accidents per 10,000 Km of Roads - 2014  \\\n",
       "0                                             1372.3              \n",
       "1                                               83.8              \n",
       "2                                              227.8              \n",
       "3                                              455.6              \n",
       "4                                             1461.3              \n",
       "\n",
       "   Total Number of Road Accidents per 10,000 Km of Roads - 2015  \n",
       "0                                             1355.0             \n",
       "1                                              112.0             \n",
       "2                                              213.1             \n",
       "3                                              463.8             \n",
       "4                                             1481.1             "
      ]
     },
     "execution_count": 35,
     "metadata": {},
     "output_type": "execute_result"
    }
   ],
   "source": [
    "df.head()"
   ]
  },
  {
   "cell_type": "code",
   "execution_count": 37,
   "metadata": {},
   "outputs": [
    {
     "data": {
      "text/plain": [
       "(37, 20)"
      ]
     },
     "execution_count": 37,
     "metadata": {},
     "output_type": "execute_result"
    }
   ],
   "source": [
    "df.shape"
   ]
  },
  {
   "cell_type": "code",
   "execution_count": 38,
   "metadata": {},
   "outputs": [
    {
     "data": {
      "text/plain": [
       "SI. No.                                                          object\n",
       "States/UTs                                                       object\n",
       "State/UT-Wise Total Number of Road Accidents during - 2013      float64\n",
       "State/UT-Wise Total Number of Road Accidents during - 2014        int64\n",
       "State/UT-Wise Total Number of Road Accidents during - 2015        int64\n",
       "State/UT-Wise Total Number of Road Accidents during - 2016        int64\n",
       "Share of States/UTs in Total Number of Road Accidents - 2013    float64\n",
       "Share of States/UTs in Total Number of Road Accidents - 2014    float64\n",
       "Share of States/UTs in Total Number of Road Accidents - 2015    float64\n",
       "Share of States/UTs in Total Number of Road Accidents - 2016    float64\n",
       "Total Number of Accidents Per Lakh Population - 2013            float64\n",
       "Total Number of Accidents Per Lakh Population - 2014            float64\n",
       "Total Number of Accidents Per Lakh Population - 2015            float64\n",
       "Total Number of Accidents Per Lakh Population - 2016            float64\n",
       "Total Number of Road Accidents per 10,000 Vehicles - 2013       float64\n",
       "Total Number of Road Accidents per 10,000 Vehicles - 2014       float64\n",
       "Total Number of Road Accidents per 10,000 Vehicles - 2015       float64\n",
       "Total Number of Road Accidents per 10,000 Km of Roads - 2013    float64\n",
       "Total Number of Road Accidents per 10,000 Km of Roads - 2014    float64\n",
       "Total Number of Road Accidents per 10,000 Km of Roads - 2015    float64\n",
       "dtype: object"
      ]
     },
     "execution_count": 38,
     "metadata": {},
     "output_type": "execute_result"
    }
   ],
   "source": [
    "df.dtypes"
   ]
  },
  {
   "cell_type": "code",
   "execution_count": 42,
   "metadata": {},
   "outputs": [
    {
     "data": {
      "text/plain": [
       "str"
      ]
     },
     "execution_count": 42,
     "metadata": {},
     "output_type": "execute_result"
    }
   ],
   "source": [
    "type(df['SI. No.'][0])"
   ]
  },
  {
   "cell_type": "code",
   "execution_count": 44,
   "metadata": {},
   "outputs": [
    {
     "data": {
      "text/plain": [
       "str"
      ]
     },
     "execution_count": 44,
     "metadata": {},
     "output_type": "execute_result"
    }
   ],
   "source": [
    "type(df['States/UTs'][0])"
   ]
  },
  {
   "cell_type": "code",
   "execution_count": 45,
   "metadata": {},
   "outputs": [
    {
     "name": "stdout",
     "output_type": "stream",
     "text": [
      "<class 'pandas.core.frame.DataFrame'>\n",
      "RangeIndex: 37 entries, 0 to 36\n",
      "Data columns (total 20 columns):\n",
      "SI. No.                                                         37 non-null object\n",
      "States/UTs                                                      37 non-null object\n",
      "State/UT-Wise Total Number of Road Accidents during - 2013      36 non-null float64\n",
      "State/UT-Wise Total Number of Road Accidents during - 2014      37 non-null int64\n",
      "State/UT-Wise Total Number of Road Accidents during - 2015      37 non-null int64\n",
      "State/UT-Wise Total Number of Road Accidents during - 2016      37 non-null int64\n",
      "Share of States/UTs in Total Number of Road Accidents - 2013    37 non-null float64\n",
      "Share of States/UTs in Total Number of Road Accidents - 2014    37 non-null float64\n",
      "Share of States/UTs in Total Number of Road Accidents - 2015    37 non-null float64\n",
      "Share of States/UTs in Total Number of Road Accidents - 2016    37 non-null float64\n",
      "Total Number of Accidents Per Lakh Population - 2013            36 non-null float64\n",
      "Total Number of Accidents Per Lakh Population - 2014            36 non-null float64\n",
      "Total Number of Accidents Per Lakh Population - 2015            36 non-null float64\n",
      "Total Number of Accidents Per Lakh Population - 2016            36 non-null float64\n",
      "Total Number of Road Accidents per 10,000 Vehicles - 2013       36 non-null float64\n",
      "Total Number of Road Accidents per 10,000 Vehicles - 2014       37 non-null float64\n",
      "Total Number of Road Accidents per 10,000 Vehicles - 2015       37 non-null float64\n",
      "Total Number of Road Accidents per 10,000 Km of Roads - 2013    36 non-null float64\n",
      "Total Number of Road Accidents per 10,000 Km of Roads - 2014    37 non-null float64\n",
      "Total Number of Road Accidents per 10,000 Km of Roads - 2015    37 non-null float64\n",
      "dtypes: float64(15), int64(3), object(2)\n",
      "memory usage: 5.9+ KB\n"
     ]
    }
   ],
   "source": [
    "df.info()"
   ]
  },
  {
   "cell_type": "code",
   "execution_count": 47,
   "metadata": {},
   "outputs": [],
   "source": [
    "row, column = df.shape"
   ]
  },
  {
   "cell_type": "code",
   "execution_count": 52,
   "metadata": {},
   "outputs": [
    {
     "data": {
      "text/plain": [
       "SI. No.                                                         100.0\n",
       "States/UTs                                                      100.0\n",
       "State/UT-Wise Total Number of Road Accidents during - 2013       97.3\n",
       "State/UT-Wise Total Number of Road Accidents during - 2014      100.0\n",
       "State/UT-Wise Total Number of Road Accidents during - 2015      100.0\n",
       "State/UT-Wise Total Number of Road Accidents during - 2016      100.0\n",
       "Share of States/UTs in Total Number of Road Accidents - 2013    100.0\n",
       "Share of States/UTs in Total Number of Road Accidents - 2014    100.0\n",
       "Share of States/UTs in Total Number of Road Accidents - 2015    100.0\n",
       "Share of States/UTs in Total Number of Road Accidents - 2016    100.0\n",
       "Total Number of Accidents Per Lakh Population - 2013             97.3\n",
       "Total Number of Accidents Per Lakh Population - 2014             97.3\n",
       "Total Number of Accidents Per Lakh Population - 2015             97.3\n",
       "Total Number of Accidents Per Lakh Population - 2016             97.3\n",
       "Total Number of Road Accidents per 10,000 Vehicles - 2013        97.3\n",
       "Total Number of Road Accidents per 10,000 Vehicles - 2014       100.0\n",
       "Total Number of Road Accidents per 10,000 Vehicles - 2015       100.0\n",
       "Total Number of Road Accidents per 10,000 Km of Roads - 2013     97.3\n",
       "Total Number of Road Accidents per 10,000 Km of Roads - 2014    100.0\n",
       "Total Number of Road Accidents per 10,000 Km of Roads - 2015    100.0\n",
       "dtype: float64"
      ]
     },
     "execution_count": 52,
     "metadata": {},
     "output_type": "execute_result"
    }
   ],
   "source": [
    "# CALCULATE Usefullness of columns\n",
    "round(((row - df.isnull().sum())/ row) * 100,2)"
   ]
  },
  {
   "cell_type": "code",
   "execution_count": 53,
   "metadata": {},
   "outputs": [
    {
     "data": {
      "text/plain": [
       "0     False\n",
       "1     False\n",
       "2     False\n",
       "3     False\n",
       "4     False\n",
       "5     False\n",
       "6     False\n",
       "7     False\n",
       "8     False\n",
       "9     False\n",
       "10    False\n",
       "11    False\n",
       "12    False\n",
       "13    False\n",
       "14    False\n",
       "15    False\n",
       "16    False\n",
       "17    False\n",
       "18    False\n",
       "19    False\n",
       "20    False\n",
       "21    False\n",
       "22    False\n",
       "23    False\n",
       "24    False\n",
       "25    False\n",
       "26    False\n",
       "27    False\n",
       "28    False\n",
       "29    False\n",
       "30    False\n",
       "31    False\n",
       "32    False\n",
       "33    False\n",
       "34    False\n",
       "35    False\n",
       "36    False\n",
       "dtype: bool"
      ]
     },
     "execution_count": 53,
     "metadata": {},
     "output_type": "execute_result"
    }
   ],
   "source": [
    "df.duplicated()"
   ]
  },
  {
   "cell_type": "code",
   "execution_count": 54,
   "metadata": {},
   "outputs": [
    {
     "data": {
      "text/plain": [
       "Mizoram                      1\n",
       "Goa                          1\n",
       "Tripura                      1\n",
       "Punjab                       1\n",
       "Haryana                      1\n",
       "Chhattisgarh                 1\n",
       "Himachal Pradesh             1\n",
       "Tamil Nadu                   1\n",
       "Nagaland                     1\n",
       "Jharkhand                    1\n",
       "Madhya Pradesh               1\n",
       "Kerala                       1\n",
       "Manipur                      1\n",
       "Delhi                        1\n",
       "Sikkim                       1\n",
       "Chandigarh                   1\n",
       "Daman & Diu                  1\n",
       "Andhra Pradesh               1\n",
       "Total                        1\n",
       "Bihar                        1\n",
       "West Bengal                  1\n",
       "Puducherry                   1\n",
       "Karnataka                    1\n",
       "Telangana                    1\n",
       "Uttar Pradesh                1\n",
       "Uttarakhand                  1\n",
       "Andaman & Nicobar Islands    1\n",
       "Lakshadweep                  1\n",
       "Odisha                       1\n",
       "Assam                        1\n",
       "Maharashtra                  1\n",
       "Rajasthan                    1\n",
       "Meghalaya                    1\n",
       "Arunachal Pradesh            1\n",
       "Dadra & Nagar Haveli         1\n",
       "Jammu & Kashmir              1\n",
       "Gujarat                      1\n",
       "Name: States/UTs, dtype: int64"
      ]
     },
     "execution_count": 54,
     "metadata": {},
     "output_type": "execute_result"
    }
   ],
   "source": [
    "df['States/UTs'].value_counts()"
   ]
  },
  {
   "cell_type": "markdown",
   "metadata": {},
   "source": [
    "No repeatition present."
   ]
  },
  {
   "cell_type": "markdown",
   "metadata": {},
   "source": [
    "This dataset shows vehicle types involved in accidents around the country.\n"
   ]
  },
  {
   "cell_type": "code",
   "execution_count": 55,
   "metadata": {},
   "outputs": [
    {
     "data": {
      "text/html": [
       "<div>\n",
       "<style scoped>\n",
       "    .dataframe tbody tr th:only-of-type {\n",
       "        vertical-align: middle;\n",
       "    }\n",
       "\n",
       "    .dataframe tbody tr th {\n",
       "        vertical-align: top;\n",
       "    }\n",
       "\n",
       "    .dataframe thead th {\n",
       "        text-align: right;\n",
       "    }\n",
       "</style>\n",
       "<table border=\"1\" class=\"dataframe\">\n",
       "  <thead>\n",
       "    <tr style=\"text-align: right;\">\n",
       "      <th></th>\n",
       "      <th>States/UTs</th>\n",
       "      <th>Year</th>\n",
       "      <th>CrimeHead</th>\n",
       "      <th>Offenders (Driver/Pedestrian) Died_Male</th>\n",
       "      <th>Offenders (Driver/Pedestrian) Died_Female</th>\n",
       "      <th>Offenders (Driver/Pedestrian) Died_Transgender</th>\n",
       "      <th>Offenders (Driver/Pedestrian) Died_Total</th>\n",
       "      <th>Victims Died_Male</th>\n",
       "      <th>Victims Died_Female</th>\n",
       "      <th>Victims Died_Transgender</th>\n",
       "      <th>Victims Died_Total</th>\n",
       "    </tr>\n",
       "  </thead>\n",
       "  <tbody>\n",
       "    <tr>\n",
       "      <th>0</th>\n",
       "      <td>Andhra Pradesh</td>\n",
       "      <td>2014</td>\n",
       "      <td>Truck/Lorry (Total)</td>\n",
       "      <td>445</td>\n",
       "      <td>30</td>\n",
       "      <td>0</td>\n",
       "      <td>475</td>\n",
       "      <td>871</td>\n",
       "      <td>135</td>\n",
       "      <td>0</td>\n",
       "      <td>1006</td>\n",
       "    </tr>\n",
       "    <tr>\n",
       "      <th>1</th>\n",
       "      <td>Andhra Pradesh</td>\n",
       "      <td>2014</td>\n",
       "      <td>Truck/Lorry - Normal Goods Carriers</td>\n",
       "      <td>357</td>\n",
       "      <td>25</td>\n",
       "      <td>0</td>\n",
       "      <td>382</td>\n",
       "      <td>577</td>\n",
       "      <td>101</td>\n",
       "      <td>0</td>\n",
       "      <td>678</td>\n",
       "    </tr>\n",
       "    <tr>\n",
       "      <th>2</th>\n",
       "      <td>Andhra Pradesh</td>\n",
       "      <td>2014</td>\n",
       "      <td>Truck/Lorry - Trailer/Container Carriers</td>\n",
       "      <td>12</td>\n",
       "      <td>0</td>\n",
       "      <td>0</td>\n",
       "      <td>12</td>\n",
       "      <td>25</td>\n",
       "      <td>0</td>\n",
       "      <td>0</td>\n",
       "      <td>25</td>\n",
       "    </tr>\n",
       "    <tr>\n",
       "      <th>3</th>\n",
       "      <td>Andhra Pradesh</td>\n",
       "      <td>2014</td>\n",
       "      <td>Truck/Lorry - Tankers</td>\n",
       "      <td>10</td>\n",
       "      <td>0</td>\n",
       "      <td>0</td>\n",
       "      <td>10</td>\n",
       "      <td>102</td>\n",
       "      <td>15</td>\n",
       "      <td>0</td>\n",
       "      <td>117</td>\n",
       "    </tr>\n",
       "    <tr>\n",
       "      <th>4</th>\n",
       "      <td>Andhra Pradesh</td>\n",
       "      <td>2014</td>\n",
       "      <td>Truck/Lorry - Others</td>\n",
       "      <td>66</td>\n",
       "      <td>5</td>\n",
       "      <td>0</td>\n",
       "      <td>71</td>\n",
       "      <td>167</td>\n",
       "      <td>19</td>\n",
       "      <td>0</td>\n",
       "      <td>186</td>\n",
       "    </tr>\n",
       "  </tbody>\n",
       "</table>\n",
       "</div>"
      ],
      "text/plain": [
       "       States/UTs  Year                                 CrimeHead  \\\n",
       "0  Andhra Pradesh  2014                       Truck/Lorry (Total)   \n",
       "1  Andhra Pradesh  2014       Truck/Lorry - Normal Goods Carriers   \n",
       "2  Andhra Pradesh  2014  Truck/Lorry - Trailer/Container Carriers   \n",
       "3  Andhra Pradesh  2014                     Truck/Lorry - Tankers   \n",
       "4  Andhra Pradesh  2014                      Truck/Lorry - Others   \n",
       "\n",
       "   Offenders (Driver/Pedestrian) Died_Male  \\\n",
       "0                                      445   \n",
       "1                                      357   \n",
       "2                                       12   \n",
       "3                                       10   \n",
       "4                                       66   \n",
       "\n",
       "   Offenders (Driver/Pedestrian) Died_Female  \\\n",
       "0                                         30   \n",
       "1                                         25   \n",
       "2                                          0   \n",
       "3                                          0   \n",
       "4                                          5   \n",
       "\n",
       "   Offenders (Driver/Pedestrian) Died_Transgender  \\\n",
       "0                                               0   \n",
       "1                                               0   \n",
       "2                                               0   \n",
       "3                                               0   \n",
       "4                                               0   \n",
       "\n",
       "   Offenders (Driver/Pedestrian) Died_Total  Victims Died_Male  \\\n",
       "0                                       475                871   \n",
       "1                                       382                577   \n",
       "2                                        12                 25   \n",
       "3                                        10                102   \n",
       "4                                        71                167   \n",
       "\n",
       "   Victims Died_Female  Victims Died_Transgender  Victims Died_Total  \n",
       "0                  135                         0                1006  \n",
       "1                  101                         0                 678  \n",
       "2                    0                         0                  25  \n",
       "3                   15                         0                 117  \n",
       "4                   19                         0                 186  "
      ]
     },
     "execution_count": 55,
     "metadata": {},
     "output_type": "execute_result"
    }
   ],
   "source": [
    "df1.head()"
   ]
  },
  {
   "cell_type": "code",
   "execution_count": 56,
   "metadata": {},
   "outputs": [
    {
     "data": {
      "text/plain": [
       "(1443, 11)"
      ]
     },
     "execution_count": 56,
     "metadata": {},
     "output_type": "execute_result"
    }
   ],
   "source": [
    "df1.shape"
   ]
  },
  {
   "cell_type": "code",
   "execution_count": 57,
   "metadata": {},
   "outputs": [
    {
     "data": {
      "text/plain": [
       "States/UTs                                        object\n",
       "Year                                               int64\n",
       "CrimeHead                                         object\n",
       "Offenders (Driver/Pedestrian) Died_Male            int64\n",
       "Offenders (Driver/Pedestrian) Died_Female          int64\n",
       "Offenders (Driver/Pedestrian) Died_Transgender     int64\n",
       "Offenders (Driver/Pedestrian) Died_Total           int64\n",
       "Victims Died_Male                                  int64\n",
       "Victims Died_Female                                int64\n",
       "Victims Died_Transgender                           int64\n",
       "Victims Died_Total                                 int64\n",
       "dtype: object"
      ]
     },
     "execution_count": 57,
     "metadata": {},
     "output_type": "execute_result"
    }
   ],
   "source": [
    "df1.dtypes"
   ]
  },
  {
   "cell_type": "code",
   "execution_count": 59,
   "metadata": {},
   "outputs": [
    {
     "name": "stdout",
     "output_type": "stream",
     "text": [
      "<class 'pandas.core.frame.DataFrame'>\n",
      "RangeIndex: 1443 entries, 0 to 1442\n",
      "Data columns (total 11 columns):\n",
      "States/UTs                                        1443 non-null object\n",
      "Year                                              1443 non-null int64\n",
      "CrimeHead                                         1443 non-null object\n",
      "Offenders (Driver/Pedestrian) Died_Male           1443 non-null int64\n",
      "Offenders (Driver/Pedestrian) Died_Female         1443 non-null int64\n",
      "Offenders (Driver/Pedestrian) Died_Transgender    1443 non-null int64\n",
      "Offenders (Driver/Pedestrian) Died_Total          1443 non-null int64\n",
      "Victims Died_Male                                 1443 non-null int64\n",
      "Victims Died_Female                               1443 non-null int64\n",
      "Victims Died_Transgender                          1443 non-null int64\n",
      "Victims Died_Total                                1443 non-null int64\n",
      "dtypes: int64(9), object(2)\n",
      "memory usage: 124.1+ KB\n"
     ]
    }
   ],
   "source": [
    "df1.info()"
   ]
  },
  {
   "cell_type": "code",
   "execution_count": 60,
   "metadata": {},
   "outputs": [
    {
     "data": {
      "text/plain": [
       "0       False\n",
       "1       False\n",
       "2       False\n",
       "3       False\n",
       "4       False\n",
       "5       False\n",
       "6       False\n",
       "7       False\n",
       "8       False\n",
       "9       False\n",
       "10      False\n",
       "11      False\n",
       "12      False\n",
       "13      False\n",
       "14      False\n",
       "15      False\n",
       "16      False\n",
       "17      False\n",
       "18      False\n",
       "19      False\n",
       "20      False\n",
       "21      False\n",
       "22      False\n",
       "23      False\n",
       "24      False\n",
       "25      False\n",
       "26      False\n",
       "27      False\n",
       "28      False\n",
       "29      False\n",
       "        ...  \n",
       "1413    False\n",
       "1414    False\n",
       "1415    False\n",
       "1416    False\n",
       "1417    False\n",
       "1418    False\n",
       "1419    False\n",
       "1420    False\n",
       "1421    False\n",
       "1422    False\n",
       "1423    False\n",
       "1424    False\n",
       "1425    False\n",
       "1426    False\n",
       "1427    False\n",
       "1428    False\n",
       "1429    False\n",
       "1430    False\n",
       "1431    False\n",
       "1432    False\n",
       "1433    False\n",
       "1434    False\n",
       "1435    False\n",
       "1436    False\n",
       "1437    False\n",
       "1438    False\n",
       "1439    False\n",
       "1440    False\n",
       "1441    False\n",
       "1442    False\n",
       "Length: 1443, dtype: bool"
      ]
     },
     "execution_count": 60,
     "metadata": {},
     "output_type": "execute_result"
    }
   ],
   "source": [
    "df1.duplicated()"
   ]
  },
  {
   "cell_type": "code",
   "execution_count": 61,
   "metadata": {},
   "outputs": [
    {
     "data": {
      "text/html": [
       "<div>\n",
       "<style scoped>\n",
       "    .dataframe tbody tr th:only-of-type {\n",
       "        vertical-align: middle;\n",
       "    }\n",
       "\n",
       "    .dataframe tbody tr th {\n",
       "        vertical-align: top;\n",
       "    }\n",
       "\n",
       "    .dataframe thead th {\n",
       "        text-align: right;\n",
       "    }\n",
       "</style>\n",
       "<table border=\"1\" class=\"dataframe\">\n",
       "  <thead>\n",
       "    <tr style=\"text-align: right;\">\n",
       "      <th></th>\n",
       "      <th>States/Uts</th>\n",
       "      <th>2003</th>\n",
       "      <th>2004</th>\n",
       "      <th>2005</th>\n",
       "      <th>2006</th>\n",
       "      <th>2007</th>\n",
       "      <th>2008</th>\n",
       "      <th>2009</th>\n",
       "      <th>2010</th>\n",
       "      <th>2011</th>\n",
       "      <th>2012</th>\n",
       "      <th>2013</th>\n",
       "      <th>2014</th>\n",
       "      <th>2015</th>\n",
       "      <th>2016</th>\n",
       "    </tr>\n",
       "  </thead>\n",
       "  <tbody>\n",
       "    <tr>\n",
       "      <th>0</th>\n",
       "      <td>Andhra Pradesh</td>\n",
       "      <td>8616.0</td>\n",
       "      <td>9343.0</td>\n",
       "      <td>9126.0</td>\n",
       "      <td>11378.0</td>\n",
       "      <td>11885.0</td>\n",
       "      <td>12233.0</td>\n",
       "      <td>12676.0</td>\n",
       "      <td>13932.0</td>\n",
       "      <td>13783.0</td>\n",
       "      <td>13560.0</td>\n",
       "      <td>13175.0</td>\n",
       "      <td>7277</td>\n",
       "      <td>7524</td>\n",
       "      <td>7851</td>\n",
       "    </tr>\n",
       "    <tr>\n",
       "      <th>1</th>\n",
       "      <td>Arunachal Pradesh</td>\n",
       "      <td>65.0</td>\n",
       "      <td>79.0</td>\n",
       "      <td>63.0</td>\n",
       "      <td>87.0</td>\n",
       "      <td>81.0</td>\n",
       "      <td>90.0</td>\n",
       "      <td>114.0</td>\n",
       "      <td>108.0</td>\n",
       "      <td>96.0</td>\n",
       "      <td>94.0</td>\n",
       "      <td>120.0</td>\n",
       "      <td>92</td>\n",
       "      <td>117</td>\n",
       "      <td>103</td>\n",
       "    </tr>\n",
       "    <tr>\n",
       "      <th>2</th>\n",
       "      <td>Assam</td>\n",
       "      <td>1120.0</td>\n",
       "      <td>1177.0</td>\n",
       "      <td>1420.0</td>\n",
       "      <td>1627.0</td>\n",
       "      <td>1483.0</td>\n",
       "      <td>1641.0</td>\n",
       "      <td>1735.0</td>\n",
       "      <td>1924.0</td>\n",
       "      <td>2015.0</td>\n",
       "      <td>2011.0</td>\n",
       "      <td>2162.0</td>\n",
       "      <td>2169</td>\n",
       "      <td>2122</td>\n",
       "      <td>2445</td>\n",
       "    </tr>\n",
       "    <tr>\n",
       "      <th>3</th>\n",
       "      <td>Bihar</td>\n",
       "      <td>2138.0</td>\n",
       "      <td>1579.0</td>\n",
       "      <td>1462.0</td>\n",
       "      <td>2315.0</td>\n",
       "      <td>3074.0</td>\n",
       "      <td>3514.0</td>\n",
       "      <td>4038.0</td>\n",
       "      <td>4513.0</td>\n",
       "      <td>4676.0</td>\n",
       "      <td>4706.0</td>\n",
       "      <td>4612.0</td>\n",
       "      <td>4505</td>\n",
       "      <td>4771</td>\n",
       "      <td>4425</td>\n",
       "    </tr>\n",
       "    <tr>\n",
       "      <th>4</th>\n",
       "      <td>Chhattisgarh</td>\n",
       "      <td>1788.0</td>\n",
       "      <td>1892.0</td>\n",
       "      <td>2049.0</td>\n",
       "      <td>2288.0</td>\n",
       "      <td>2496.0</td>\n",
       "      <td>2600.0</td>\n",
       "      <td>2566.0</td>\n",
       "      <td>2668.0</td>\n",
       "      <td>2659.0</td>\n",
       "      <td>2783.0</td>\n",
       "      <td>3059.0</td>\n",
       "      <td>3570</td>\n",
       "      <td>3710</td>\n",
       "      <td>3527</td>\n",
       "    </tr>\n",
       "  </tbody>\n",
       "</table>\n",
       "</div>"
      ],
      "text/plain": [
       "          States/Uts    2003    2004    2005     2006     2007     2008  \\\n",
       "0     Andhra Pradesh  8616.0  9343.0  9126.0  11378.0  11885.0  12233.0   \n",
       "1  Arunachal Pradesh    65.0    79.0    63.0     87.0     81.0     90.0   \n",
       "2              Assam  1120.0  1177.0  1420.0   1627.0   1483.0   1641.0   \n",
       "3              Bihar  2138.0  1579.0  1462.0   2315.0   3074.0   3514.0   \n",
       "4       Chhattisgarh  1788.0  1892.0  2049.0   2288.0   2496.0   2600.0   \n",
       "\n",
       "      2009     2010     2011     2012     2013  2014  2015  2016  \n",
       "0  12676.0  13932.0  13783.0  13560.0  13175.0  7277  7524  7851  \n",
       "1    114.0    108.0     96.0     94.0    120.0    92   117   103  \n",
       "2   1735.0   1924.0   2015.0   2011.0   2162.0  2169  2122  2445  \n",
       "3   4038.0   4513.0   4676.0   4706.0   4612.0  4505  4771  4425  \n",
       "4   2566.0   2668.0   2659.0   2783.0   3059.0  3570  3710  3527  "
      ]
     },
     "execution_count": 61,
     "metadata": {},
     "output_type": "execute_result"
    }
   ],
   "source": [
    "df3.head()"
   ]
  },
  {
   "cell_type": "code",
   "execution_count": 62,
   "metadata": {},
   "outputs": [
    {
     "data": {
      "text/plain": [
       "States/Uts    100.00\n",
       "2003           97.30\n",
       "2004           97.30\n",
       "2005           97.30\n",
       "2006           97.30\n",
       "2007           97.30\n",
       "2008           97.30\n",
       "2009           97.30\n",
       "2010           97.30\n",
       "2011           97.30\n",
       "2012           94.59\n",
       "2013           97.30\n",
       "2014          100.00\n",
       "2015          100.00\n",
       "2016          100.00\n",
       "dtype: float64"
      ]
     },
     "execution_count": 62,
     "metadata": {},
     "output_type": "execute_result"
    }
   ],
   "source": [
    "round(((row - df3.isnull().sum())/row) * 100, 2)"
   ]
  },
  {
   "cell_type": "code",
   "execution_count": 72,
   "metadata": {},
   "outputs": [
    {
     "name": "stdout",
     "output_type": "stream",
     "text": [
      "Mean of accidents happened in all states in year 2013: 27026.444444444445\n"
     ]
    }
   ],
   "source": [
    "mean13 = np.mean(df['State/UT-Wise Total Number of Road Accidents during - 2013'])\n",
    "print(\"Mean of accidents happened in all states in year 2013: {}\".format(mean13))"
   ]
  },
  {
   "cell_type": "code",
   "execution_count": 73,
   "metadata": {},
   "outputs": [
    {
     "name": "stdout",
     "output_type": "stream",
     "text": [
      "Mean of accidents happened in all states in year 2014 : 26454.054054054053\n"
     ]
    }
   ],
   "source": [
    "mean14 = np.mean(df['State/UT-Wise Total Number of Road Accidents during - 2014'])\n",
    "print(\"Mean of accidents happened in all states in year 2014 : {}\".format(mean14))"
   ]
  },
  {
   "cell_type": "code",
   "execution_count": 74,
   "metadata": {},
   "outputs": [
    {
     "name": "stdout",
     "output_type": "stream",
     "text": [
      "Mean of accidents happened in all states in year 2015 : 27103.945945945947\n"
     ]
    }
   ],
   "source": [
    "mean15 = np.mean(df['State/UT-Wise Total Number of Road Accidents during - 2015'])\n",
    "print(\"Mean of accidents happened in all states in year 2015 : {}\".format(mean15))"
   ]
  },
  {
   "cell_type": "code",
   "execution_count": 75,
   "metadata": {},
   "outputs": [
    {
     "name": "stdout",
     "output_type": "stream",
     "text": [
      "Mean of accidents happened in all states in 2016 25981.18918918919\n"
     ]
    }
   ],
   "source": [
    "mean16 = np.mean(df['State/UT-Wise Total Number of Road Accidents during - 2016'])\n",
    "print(\"Mean of accidents happened in all states in 2016 {}\".format(mean16))"
   ]
  },
  {
   "cell_type": "code",
   "execution_count": 144,
   "metadata": {},
   "outputs": [
    {
     "data": {
      "image/png": "[encoded data removed]",
      "text/plain": [
       "<Figure size 640x480 with 1 Axes>"
      ]
     },
     "metadata": {},
     "output_type": "display_data"
    }
   ],
   "source": [
    "labels = 'State/UT-Wise Total Number of Road Accidents during - 2013', 'State/UT-Wise Total Number of Road Accidents during - 2014', 'State/UT-Wise Total Number of Road Accidents during - 2015', 'State/UT-Wise Total Number of Road Accidents during - 2016'\n",
    "sizes = [mean13, mean14, mean15, mean16]\n",
    "colors = ['gold', 'green', 'blue', 'orange']\n",
    "explode = (0.01, 0.01, 0.01, 0.01)\n",
    "plt.pie(sizes, labels = labels, colors = colors, explode = explode,\n",
    "       shadow = True, autopct = '%.4f%%', startangle = 140)\n",
    "plt.axis('equal')\n",
    "plt.show()"
   ]
  },
  {
   "cell_type": "code",
   "execution_count": 113,
   "metadata": {},
   "outputs": [
    {
     "name": "stdout",
     "output_type": "stream",
     "text": [
      "Mean of accidents per lakh population in 2013 : 41.91111111111111\n"
     ]
    }
   ],
   "source": [
    "acc13 = np.mean(df['Total Number of Accidents Per Lakh Population - 2013'])\n",
    "print(\"Mean of accidents per lakh population in 2013 : {}\".format(acc13))"
   ]
  },
  {
   "cell_type": "code",
   "execution_count": 114,
   "metadata": {},
   "outputs": [
    {
     "name": "stdout",
     "output_type": "stream",
     "text": [
      "Mean of accidents per lakh population in 2014 : 39.87777777777778\n"
     ]
    }
   ],
   "source": [
    "acc14 = np.mean(df['Total Number of Accidents Per Lakh Population - 2014'])\n",
    "print(\"Mean of accidents per lakh population in 2014 : {}\".format(acc14))"
   ]
  },
  {
   "cell_type": "code",
   "execution_count": 115,
   "metadata": {},
   "outputs": [
    {
     "name": "stdout",
     "output_type": "stream",
     "text": [
      "Mean of accidents per lakh population in 2015 : 40.83333333333333\n"
     ]
    }
   ],
   "source": [
    "acc15 = np.mean(df['Total Number of Accidents Per Lakh Population - 2015'])\n",
    "print(\"Mean of accidents per lakh population in 2015 : {}\".format(acc15))"
   ]
  },
  {
   "cell_type": "code",
   "execution_count": 116,
   "metadata": {},
   "outputs": [
    {
     "name": "stdout",
     "output_type": "stream",
     "text": [
      "Mean of accidents per lakh population in 2016 : 39.636111111111106\n"
     ]
    }
   ],
   "source": [
    "acc16 = np.mean(df['Total Number of Accidents Per Lakh Population - 2016'])\n",
    "print(\"Mean of accidents per lakh population in 2016 : {}\".format(acc16))"
   ]
  },
  {
   "cell_type": "code",
   "execution_count": 146,
   "metadata": {},
   "outputs": [
    {
     "data": {
      "image/png": "[encoded data removed]",
      "text/plain": [
       "<Figure size 640x480 with 1 Axes>"
      ]
     },
     "metadata": {},
     "output_type": "display_data"
    }
   ],
   "source": [
    "labels = ('2013','2014','2015','2016')\n",
    "explode = (0.01,0.01,0.01,0.01)\n",
    "performance = [acc13, acc14, acc15, acc16]\n",
    "plt.pie(performance, labels = labels, autopct = '%.2f%%', center = (0,0), explode = explode )\n",
    "plt.show()"
   ]
  },
  {
   "cell_type": "code",
   "execution_count": null,
   "metadata": {},
   "outputs": [],
   "source": []
  }
 ],
 "metadata": {
  "kernelspec": {
   "display_name": "Python 3",
   "language": "python",
   "name": "python3"
  },
  "language_info": {
   "codemirror_mode": {
    "name": "ipython",
    "version": 3
   },
   "file_extension": ".py",
   "mimetype": "text/x-python",
   "name": "python",
   "nbconvert_exporter": "python",
   "pygments_lexer": "ipython3",
   "version": "3.7.0"
  }
 },
 "nbformat": 4,
 "nbformat_minor": 2
}
